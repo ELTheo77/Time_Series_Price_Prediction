{
 "cells": [
  {
   "cell_type": "markdown",
   "metadata": {},
   "source": [
    "# Natural Gas Price Predictor - Example Usage\n",
    "\n",
    "This notebook demonstrates how to use the Natural Gas Price Predictor for both price forecasting and contract valuation.\n",
    "\n",
    "## 1. Setup\n",
    "\n",
    "First, let's import all necessary modules:"
   ]
  },
  {
   "cell_type": "code",
   "execution_count": null,
   "metadata": {},
   "outputs": [],
   "source": [
    "import sys\n",
    "import os\n",
    "sys.path.append(os.path.dirname(os.path.dirname(os.path.abspath(''))))\n",
    "\n",
    "from src.models.predictor import GasPricePredictor\n",
    "from src.models.contract_pricer import StorageContractPricer\n",
    "from src.visualization.plots import *\n",
    "import pandas as pd\n",
    "import matplotlib.pyplot as plt"
   ]
  },
  {
   "cell_type": "markdown",
   "metadata": {},
   "source": [
    "## 2. Price Prediction\n",
    "\n",
    "### 2.1 Initialize the Predictor"
   ]
  },
  {
   "cell_type": "code",
   "execution_count": null,
   "metadata": {},
   "outputs": [],
   "source": [
    "predictor = GasPricePredictor('data/raw/Nat_Gas.csv')\n",
    "\n",
    "# Get and display model metrics\n",
    "metrics = predictor.get_metrics()\n",
    "print(\"Model Performance Metrics:\")\n",
    "print(f\"RMSE: {metrics['rmse']:.2f}\")\n",
    "print(f\"MAE: {metrics['mae']:.2f}\")\n",
    "print(f\"R²: {metrics['r2']:.2f}\")"
   ]
  },
  {
   "cell_type": "markdown",
   "metadata": {},
   "source": [
    "### 2.2 Single Date Prediction"
   ]
  },
  {
   "cell_type": "code",
   "execution_count": null,
   "metadata": {},
   "outputs": [],
   "source": [
    "# Predict price for a specific date\n",
    "future_date = '2024-12-31'\n",
    "predicted_price = predictor.predict(future_date)\n",
    "print(f\"Predicted price for {future_date}: ${predicted_price:.2f}\")"
   ]
  },
  {
   "cell_type": "markdown",
   "metadata": {},
   "source": [
    "### 2.3 Multiple Date Predictions"
   ]
  },
  {
   "cell_type": "code",
   "execution_count": null,
   "metadata": {},
   "outputs": [],
   "source": [
    "# Predict prices for multiple dates\n",
    "dates = ['2024-06-30', '2024-09-30', '2024-12-31', '2025-03-31']\n",
    "predictions = [(date, predictor.predict(date)) for date in dates]\n",
    "\n",
    "# Display results\n",
    "print(\"\\nPredictions for Multiple Dates:\")\n",
    "for date, price in predictions:\n",
    "    print(f\"{date}: ${price:.2f}\")"
   ]
  },
  {
   "cell_type": "markdown",
   "metadata": {},
   "source": [
    "## 3. Contract Pricing\n",
    "\n",
    "### 3.1 Initialize Contract Pricer"
   ]
  },
  {
   "cell_type": "code",
   "execution_count": null,
   "metadata": {},
   "outputs": [],
   "source": [
    "pricer = StorageContractPricer(predictor)"
   ]
  },
  {
   "cell_type": "markdown",
   "metadata": {},
   "source": [
    "### 3.2 Single Trade Contract"
   ]
  },
  {
   "cell_type": "code",
   "execution_count": null,
   "metadata": {},
   "outputs": [],
   "source": [
    "# Calculate contract value for summer injection, winter withdrawal\n",
    "result = pricer.calculate_contract_value(\n",
    "    injection_dates=['2024-06-30'],\n",
    "    withdrawal_dates=['2024-12-31'],\n",
    "    volume_per_trade=1_000_000,\n",
    "    injection_rate=50_000,\n",
    "    withdrawal_rate=50_000,\n",
    "    max_storage=2_000_000\n",
    ")\n",
    "\n",
    "print(\"\\nContract Valuation Results:\")\n",
    "print(f\"Net Contract Value: ${result['contract_value']:,.2f}\")\n",
    "print(\"\\nBreakdown:\")\n",
    "for key, value in result['details'].items():\n",
    "    if key not in ['purchase_prices', 'sale_prices']:\n",
    "        print(f\"{key.replace('_', ' ').title()}: ${value:,.2f}\")"
   ]
  },
  {
   "cell_type": "markdown",
   "metadata": {},
   "source": [
    "### 3.3 Multiple Trade Contract"
   ]
  },
  {
   "cell_type": "code",
   "execution_count": null,
   "metadata": {},
   "outputs": [],
   "source": [
    "# Calculate value for multiple trades\n",
    "result_multi = pricer.calculate_contract_value(\n",
    "    injection_dates=['2024-06-30', '2024-07-31'],\n",
    "    withdrawal_dates=['2024-12-31', '2025-01-31'],\n",
    "    volume_per_trade=500_000,\n",
    "    injection_rate=50_000,\n",
    "    withdrawal_rate=50_000,\n",
    "    max_storage=2_000_000\n",
    ")\n",
    "\n",
    "print(\"\\nMultiple Trade Contract Results:\")\n",
    "print(f\"Net Contract Value: ${result_multi['contract_value']:,.2f}\")"
   ]
  },
  {
   "cell_type": "markdown",
   "metadata": {},
   "source": [
    "## 4. Visualizations\n",
    "\n",
    "### 4.1 Price History and Predictions"
   ]
  },
  {
   "cell_type": "code",
   "execution_count": null,
   "metadata": {},
   "outputs": [],
   "source": [
    "# Load data\n",
    "df = pd.read_csv('data/raw/Nat_Gas.csv')\n",
    "df['Dates'] = pd.to_datetime(df['Dates'])\n",
    "df.set_index('Dates', inplace=True)\n",
    "\n",
    "# Plot price history\n",
    "plot_price_history(df)"
   ]
  },
  {
   "cell_type": "markdown",
   "metadata": {},
   "source": [
    "### 4.2 Seasonal Patterns"
   ]
  },
  {
   "cell_type": "code",
   "execution_count": null,
   "metadata": {},
   "outputs": [],
   "source": [
    "plot_seasonal_patterns(df)"
   ]
  },
  {
   "cell_type": "markdown",
   "metadata": {},
   "source": [
    "### 4.3 Contract Analysis"
   ]
  },
  {
   "cell_type": "code",
   "execution_count": null,
   "metadata": {},
   "outputs": [],
   "source": [
    "plot_contract_costs(result_multi)"
   ]
  }
 ],
 "metadata": {
  "kernelspec": {
   "display_name": "Python 3 (ipykernel)",
   "language": "python",
   "name": "python3"
  },
  "language_info": {
   "codemirror_mode": {
    "name": "ipython",
    "version": 3
   },
   "file_extension": ".py",
   "mimetype": "text/x-python",
   "name": "python",
   "nbconvert_exporter": "python",
   "pygments_lexer": "ipython3",
   "version": "3.12.7"
  }
 },
 "nbformat": 4,
 "nbformat_minor": 4
}
